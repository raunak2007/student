{
 "cells": [
  {
   "cell_type": "markdown",
   "metadata": {},
   "source": [
    "---\n",
    "layout: post\n",
    "title: FRQ Mini Lab - Methods & Control Structures\n",
    "description: FUN FUN FUN \n",
    "toc: true\n",
    "comments: true\n",
    "categories: [C5.0]\n",
    "courses: { csse: {week: 2}, csp: {week: 1, categories: [4.B, 5.B]}, csa: {week: 4} }\n",
    "type: devops\n",
    "---"
   ]
  }
 ],
 "metadata": {
  "kernelspec": {
   "display_name": "Python 3 (ipykernel)",
   "language": "python",
   "name": "python3"
  },
  "language_info": {
   "codemirror_mode": {
    "name": "ipython",
    "version": 3
   },
   "file_extension": ".py",
   "mimetype": "text/x-python",
   "name": "python",
   "nbconvert_exporter": "python",
   "pygments_lexer": "ipython3",
   "version": "3.11.4"
  }
 },
 "nbformat": 4,
 "nbformat_minor": 2
}
