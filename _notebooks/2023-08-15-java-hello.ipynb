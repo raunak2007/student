{
 "cells": [
  {
   "cell_type": "markdown",
   "metadata": {},
   "source": [
    "---\n",
    "# this is YAML front matter\n",
    "layout: post\n",
    "title: Java Hello - Anatomy of a Class\n",
    "description: A progressive journey through Java basics starting with the classic \"Hello, World!\" example.\n",
    "courses: { csa: {week: 2, categories: [3.A]} }\n",
    "categories: [C4.0]\n",
    "type: hacks\n",
    "---"
   ]
  },
  {
   "cell_type": "markdown",
   "metadata": {},
   "source": [
    "## Hello, World!\n",
    "This article shows the basic language structures and constructs of Java (aka anatomy).  In async order, it is critical to understand these examples and learn vocab for OOP and Creating Objects: \n",
    "- [Object Oriented Programming](https://youtu.be/Wok4Xw_5cyY) \n",
    "- [Creating Objects](https://youtu.be/C5Ks_u87Ltg)\n",
    "- [Calling Methods](https://youtu.be/CPE_lYGCw3A)"
   ]
  },
  {
   "cell_type": "markdown",
   "metadata": {},
   "source": [
    "### Static example\n",
    "The class HelloStatic contains the classic \"Hello, World!\" message that is often used as an introduction to a programming language.  The \"public static void main(String[] args)\", or main method, is the default runtime method in Java and has a very specific and ordered definition (signature). \n",
    "\n",
    "The key terms in HelloStatic introduction:\n",
    "- \"class\" is a blueprint for code, it is the code definition and must be called to run\n",
    "- \"method\" or \"static method\" in this case, is the code to be run/executed, similar to a procedure\n",
    "- \"method definition\" or \"signature\" are the keywords \"public static void\" in front of the name \"main\" and the parameters \"String[] args\" after the name.\n",
    "- \"method call\" is the means in which we run the defined code\n"
   ]
  },
  {
   "cell_type": "code",
   "execution_count": 1,
   "metadata": {},
   "outputs": [
    {
     "name": "stdout",
     "output_type": "stream",
     "text": [
      "Hello World!\n"
     ]
    }
   ],
   "source": [
    "// Define Static Method within a Class\n",
    "public class HelloStatic {\n",
    "    // Java standard runtime entry point\n",
    "    public static void main(String[] args) {    \n",
    "        System.out.println(\"Hello World!\");\n",
    "    }\n",
    "}\n",
    "// A method call allows us to execute code that is wrapped in Class\n",
    "HelloStatic.main(null);   // Class prefix allows reference of Static Method"
   ]
  },
  {
   "cell_type": "markdown",
   "metadata": {},
   "source": [
    "### Dynamic Example\n",
    "This example starts to use Java in its natural manner, using an object within the main method. This example is a very basic illustration of Object Oriente Programming (OOP). The main method is now used as a driver/tester, by making an instance of the class.  Thus, it creates an Object using the HelloObject() constructor.  Also, this Class contains a getter method called getHello() which returns the value with the \"String hello\".\n",
    "\n",
    "The key terms in HelloStatic introduction:\n",
    "- \"Object Oriented Programming\" focuses software design around data, or objects.\n",
    "- \"object\" contains both methods and data\n",
    "- \"instance of a class\" is the process of making an object, unique or instances of variables are created within the object\n",
    "- \"constructor\" special method in class, code that is used to initialize the data within the object\n",
    "- \"getter\" is a method that is used to extract or reference data from within the object. "
   ]
  },
  {
   "cell_type": "code",
   "execution_count": 2,
   "metadata": {},
   "outputs": [
    {
     "name": "stdout",
     "output_type": "stream",
     "text": [
      "Hello, World!\n"
     ]
    }
   ],
   "source": [
    "// Define Class with Constructor returning Object\n",
    "public class HelloObject {\n",
    "    private String hello;   // instance attribute or variable\n",
    "    public HelloObject() {  // constructor\n",
    "        hello = \"Hello, World!\";\n",
    "    }\n",
    "    public String getHello() {  // getter, returns value from inside the object\n",
    "        return this.hello;  // return String from object\n",
    "    }\n",
    "    public static void main(String[] args) {    \n",
    "        HelloObject ho = new HelloObject(); // Instance of Class (ho) is an Object via \"new HelloObject()\"\n",
    "        System.out.println(ho.getHello()); // Object allows reference to public methods and data\n",
    "    }\n",
    "}\n",
    "// IJava activation\n",
    "HelloObject.main(null);"
   ]
  },
  {
   "cell_type": "markdown",
   "metadata": {},
   "source": [
    "### Dynamic Example with two constructors\n",
    "This last example adds to the basics of the Java anatomy.  The Class now contains two constructors and a setter to go with the getter.  Also, observe the driver/tester now contains two objects that are initialized differently, 0 and 1 argument constructor.  Look at the usage of the \"this\" prefix.  The \"this\" keyword helps in clarification between instance and local variable.\n",
    "\n",
    "The key terms in HelloDynamic introduction:\n",
    "- \"0 argument constructor\" constructor method with no parameter ()\n",
    "- \"1 argument constructor\" construct method with a parameter (String hello)\n",
    "- \"this keyword\" allows you to clear reference something that is part of the object, data or method\n",
    "- \"local variable\" is a variable that is passed to the method in this example, see the 1 argument constructor as it has a local variable \"String hello\"\n",
    "- \"dynamic\" versus \"static\" is something that has option to change, static never changes.  A class (blueprint) and objects (instance of blueprint) are generally intended to be dynamic.  Constructors and Setters are used to dynamically change the content of an object.\n",
    "- \"Java OOP, Java Classes/Objects, Java Class Attributes, Java Class Methods, Java Constructors\" are explained if more complete detail in W3 Schools: https://www.w3schools.com/java/java_oop.asp"
   ]
  },
  {
   "cell_type": "code",
   "execution_count": 3,
   "metadata": {},
   "outputs": [
    {
     "name": "stdout",
     "output_type": "stream",
     "text": [
      "Hello, World!\n",
      "Hello, Nighthawk Coding Society!\n"
     ]
    }
   ],
   "source": [
    "// Define Class\n",
    "public class HelloDynamic { // name the first letter of class as capitalized, note camel case\n",
    "    // instance variable have access modifier (private is most common), data type, and name\n",
    "    private String hello;\n",
    "    // constructor signature 1, public and zero arguments, constructors do not have return type\n",
    "    public HelloDynamic() {  // 0 argument constructor\n",
    "        this.setHello(\"Hello, World!\");  // using setter with static string\n",
    "    }\n",
    "    // constructor signature, public and one argument\n",
    "    public HelloDynamic(String hello) { // 1 argument constructor\n",
    "        this.setHello(hello);   // using setter with local variable passed into constructor\n",
    "    }\n",
    "    // setter/mutator, setter have void return type and a parameter\n",
    "    public void setHello(String hello) { // setter\n",
    "        this.hello = hello;     // instance variable on the left, local variable on the right\n",
    "    }\n",
    "    // getter/accessor, getter used to return private instance variable (encapsulated), return type is String\n",
    "    public String getHello() {  // getter\n",
    "        return this.hello;\n",
    "    }\n",
    "    // public static void main(String[] args) is signature for main/drivers/tester method\n",
    "    // a driver/tester method is singular or called a class method, it is never part of an object\n",
    "    public static void main(String[] args) {  \n",
    "        HelloDynamic hd1 = new HelloDynamic(); // no argument constructor\n",
    "        HelloDynamic hd2 = new HelloDynamic(\"Hello, Nighthawk Coding Society!\"); // one argument constructor\n",
    "        System.out.println(hd1.getHello()); // accessing getter\n",
    "        System.out.println(hd2.getHello()); \n",
    "    }\n",
    "}\n",
    "// IJava activation\n",
    "HelloDynamic.main(null);"
   ]
  },
  {
   "cell_type": "markdown",
   "metadata": {},
   "source": [
    "## Hacks\n",
    "Build your own Jupyter Notebook meeting these College Board and CTE competencies.  It is critical to understand Static versus Instance Now, this is College Board requirement!!!\n",
    "- Explain Anatomy of a Class in comments of program (Diagram key parts of the class).\n",
    "- Comment in code where there is a definition of a Class and an instance of a Class (ie object)\n",
    "- Comment in code where there are constructors and highlight the signature difference in the signature\n",
    "- Call an object method with parameter (ie setters)."
   ]
  },
  {
   "cell_type": "markdown",
   "metadata": {},
   "source": [
    "<html>\n",
    "<img width=\"561\" alt=\"Diagram\" src=\"https://github.com/e-shen2022/APCS_Blog/assets/104966589/ccde6fce-295a-4934-8362-e546452a3ea6\">\n",
    "</html>"
   ]
  },
  {
   "cell_type": "markdown",
   "metadata": {},
   "source": [
    "Additional requirements (Pick something)\n",
    "1. <b>Go through code progression of understanding Class usage and generating an Instance of a Class (Object).</b>\n",
    "    \n",
    "    a. Build a purposeful dynamic Class, using an Object, generate multiple instances: \n",
    "    - Person: Name and Age \n",
    "    - Dessert: Type and Cost \n",
    "    - Location: City, State, Zip\n",
    "\n",
    "    b. Create a static void main tester method to generate objects of the class.\n",
    "\n",
    "    c. In tester method, show how setters/mutators can be used to make the data in the Object dynamically change\n",
    "2. Go through progression of understanding a Static Class. Build a purposeful static Class, no Objects.\n",
    "\n",
    "    a. Calculate common operations on a Date field, age since date, older of two dates, number of seconds since date\n",
    "    \n",
    "    b. Calculate stats functions on an array of values: mean, median, mode."
   ]
  },
  {
   "cell_type": "code",
   "execution_count": 134,
   "metadata": {},
   "outputs": [],
   "source": [
    "// Define a class w/3 private instance variables \n",
    "public class BobaDrinks {\n",
    "    private String name;\n",
    "    private int cost;\n",
    "    private String description;\n",
    "\n",
    "    // No-argument constructor\n",
    "    public BobaDrinks() {\n",
    "        this.name = \"\";\n",
    "        this.cost = 0;\n",
    "        this.description = \"\";\n",
    "    }\n",
    "\n",
    "    // Parameterized constructor \n",
    "    public BobaDrinks(String name, int cost, String description) {\n",
    "        this.name = name;\n",
    "        this.cost = cost;\n",
    "        this.description = description;\n",
    "    }\n",
    "\n",
    "    // Setters to modify values of private instance variables \n",
    "    public void setName(String newName) {\n",
    "        this.name = newName;\n",
    "    }\n",
    "    public void setCost(int newCost) {\n",
    "        this.cost = newCost;\n",
    "    }\n",
    "    public void setDescription(String newDescription) {\n",
    "        this.description = newDescription;\n",
    "    }\n",
    "\n",
    "    // Getters to retrieve values of private instance variables \n",
    "    public String getName() {\n",
    "        return this.name;\n",
    "    }\n",
    "    public int getCost() {\n",
    "        return this.cost;\n",
    "    }\n",
    "    public String getDescription() {\n",
    "        return this.description;\n",
    "    }\n",
    "\n",
    "    // Static void main tester method\n",
    "    public static void main(String[] args) {\n",
    "        System.out.println(\"Loading the best drinks on the Teaspoon menu!\");\n",
    "\n",
    "        // Create new instances w/no argument constructor\n",
    "        BobaDrinks house_milk = new BobaDrinks();\n",
    "        house_milk.setName(\"House Milk Tea\");\n",
    "        house_milk.setCost(7);\n",
    "        house_milk.setDescription(\"Signature black tea blend infused w/cream\");\n",
    "\n",
    "        // Using Parameterized Constructor\n",
    "        BobaDrinks taro = new BobaDrinks(\"Taro Lover\", 7, \"Taro milk w/slow cooked taro chunks\");\n",
    "        BobaDrinks jasmine = new BobaDrinks(\"Creamy Jasmine\", 7, \"Sweet jasmine green tea infused w/cream\");\n",
    "        BobaDrinks guava = new BobaDrinks(\"Guava Sunset\", 8, \"Freshly blended guava & pineapple marmalade w/ a splash of lemon juice\");\n",
    "        BobaDrinks matcha_royale = new BobaDrinks(\"Matcha Strawberry Royale\", 8, \"Ceremonial matcha green tea infused w/ organic milk and strawberry chunks\");\n",
    "        BobaDrinks lychee = new BobaDrinks(\"Lychee on Lychee\", 8, \"Lychee black tea topped w/ lychee jelly\");\n",
    "\n",
    "        // Output \n",
    "        System.out.println(\"\");\n",
    "        System.out.println(\"Name                      Cost  Description\");\n",
    "        System.out.println(house_milk.getName() + \"           | $\" + house_milk.getCost() + \" | \" + house_milk.getDescription());\n",
    "        System.out.println(taro.getName() + \"               | $\" + taro.getCost() + \" | \" + taro.getDescription());\n",
    "        System.out.println(jasmine.getName() + \"           | $\" + jasmine.getCost() + \" | \" + jasmine.getDescription());\n",
    "        System.out.println(guava.getName() + \"             | $\" + guava.getCost() + \" | \" + guava.getDescription());\n",
    "        System.out.println(matcha_royale.getName() + \" | $\" + matcha_royale.getCost() + \" | \" + matcha_royale.getDescription());\n",
    "        System.out.println(lychee.getName() + \"         | $\" + lychee.getCost() + \" | \" + lychee.getDescription());\n",
    "\n",
    "        System.out.println(\"_________________________________________________________________________________________________________\");\n",
    "        System.out.println(\"Use setters to make data in object dynamically change!\");\n",
    "\n",
    "    // Create an instance of class\n",
    "    System.out.println(\"\");\n",
    "    BobaDrinks houseMilk = new BobaDrinks();\n",
    "    houseMilk.setName(\"House Milk Tea\");\n",
    "    houseMilk.setCost(7);\n",
    "    houseMilk.setDescription(\"Signature black tea blend infused w/ cream\");\n",
    "\n",
    "    // Display initial details\n",
    "    System.out.println(\"Initial Details:\");\n",
    "    System.out.println(\"Name: \" + houseMilk.getName());\n",
    "    System.out.println(\"Cost: $\" + houseMilk.getCost());\n",
    "    System.out.println(\"Description: \" + houseMilk.getDescription());\n",
    "\n",
    "    // Use setter methods to dynamically change data\n",
    "    houseMilk.setName(\"Premium House Milk Tea\");\n",
    "    houseMilk.setCost(8);\n",
    "    houseMilk.setDescription(\"Premium signature black tea blend with creamy infusion\");\n",
    "\n",
    "    // Display updated details\n",
    "    System.out.println(\"\\nUpdated Details:\");\n",
    "    System.out.println(\"Name: \" + houseMilk.getName());\n",
    "    System.out.println(\"Cost: $\" + houseMilk.getCost());\n",
    "    System.out.println(\"Description: \" + houseMilk.getDescription());\n",
    "    }\n",
    "}"
   ]
  },
  {
   "cell_type": "code",
   "execution_count": 135,
   "metadata": {},
   "outputs": [
    {
     "name": "stdout",
     "output_type": "stream",
     "text": [
      "Loading the best drinks on the Teaspoon menu!\n",
      "\n",
      "Name                      Cost  Description\n",
      "House Milk Tea           | $7 | Signature black tea blend infused w/cream\n",
      "Taro Lover               | $7 | Taro milk w/slow cooked taro chunks\n",
      "Creamy Jasmine           | $7 | Sweet jasmine green tea infused w/cream\n",
      "Guava Sunset             | $8 | Freshly blended guava & pineapple marmalade w/ a splash of lemon juice\n",
      "Matcha Strawberry Royale | $8 | Ceremonial matcha green tea infused w/ organic milk and strawberry chunks\n",
      "Lychee on Lychee         | $8 | Lychee black tea topped w/ lychee jelly\n",
      "_________________________________________________________________________________________________________\n",
      "Use setters to make data in object dynamically change!\n",
      "\n",
      "Initial Details:\n",
      "Name: House Milk Tea\n",
      "Cost: $7\n",
      "Description: Signature black tea blend infused w/ cream\n",
      "\n",
      "Updated Details:\n",
      "Name: Premium House Milk Tea\n",
      "Cost: $8\n",
      "Description: Premium signature black tea blend with creamy infusion\n"
     ]
    }
   ],
   "source": [
    "BobaDrinks.main(null);"
   ]
  }
 ],
 "metadata": {
  "kernelspec": {
   "display_name": "Java",
   "language": "java",
   "name": "java"
  },
  "language_info": {
   "codemirror_mode": "java",
   "file_extension": ".jshell",
   "mimetype": "text/x-java-source",
   "name": "java",
   "pygments_lexer": "java",
   "version": "20.0.1"
  }
 },
 "nbformat": 4,
 "nbformat_minor": 2
}
