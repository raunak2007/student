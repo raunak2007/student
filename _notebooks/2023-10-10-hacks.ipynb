{
 "cells": [
  {
   "cell_type": "markdown",
   "metadata": {},
   "source": [
    "---\n",
    "layout: post\n",
    "title: U3 Hacks\n",
    "comments: true\n",
    "courses: { csa: {week: 7} }\n",
    "type: lessons\n",
    "---"
   ]
  },
  {
   "cell_type": "markdown",
   "metadata": {},
   "source": [
    "# Your Homework\n",
    "\n",
    "Now that you know what boolean expressions are and how to write them, as well as several comparison methods, your task is to write a class that uses either the compareTo or comparator and compare. Then create two instances of these classes and demonstrate using if statements. \n",
    "\n",
    "\n",
    "\n",
    "\n",
    "BONUS: Create a program that checks if a year is a leap year or not.\n",
    "\n",
    "Here is how the method should work: \n",
    "\n",
    "(1) Prompt the user to input any year that they would like <br>\n",
    "(2) Determine if the year is a leap year or not <br>\n",
    "(3) Print the necessary dialogue (ex. [year] is/is not a leap year) AND return the value of any boolean(s) used\n"
   ]
  },
  {
   "cell_type": "code",
   "execution_count": 1,
   "metadata": {},
   "outputs": [],
   "source": [
    "import java.util.Scanner;\n",
    "\n",
    "public class CheckLeapYear {\n",
    "    private int year;\n",
    "\n",
    "    public CheckLeapYear(int year) {\n",
    "        this.year = year;\n",
    "    }\n",
    "\n",
    "    public boolean isLeapYear() {\n",
    "        // Leap year conditions: If the year is divisible by 4 and not divisible by 100 OR If the year is divisible by 400\n",
    "        // Uses the double equals, and, and or operators \n",
    "        return (year % 4 == 0 && year % 100 != 0) || (year % 400 == 0);\n",
    "    }\n",
    "\n",
    "    public static void main(String[] args) {\n",
    "        Scanner scanner = new Scanner(System.in);\n",
    "\n",
    "        System.out.println(\"Enter a year to check if it's a leap year: \");\n",
    "        int inputYear = scanner.nextInt();\n",
    "\n",
    "        CheckLeapYear yearChecker = new CheckLeapYear(inputYear);\n",
    "        boolean isLeap = yearChecker.isLeapYear();\n",
    "\n",
    "        // Prints out whether leap year \n",
    "        if (isLeap) {\n",
    "            System.out.println(inputYear + \" is a leap year.\");\n",
    "        } else {\n",
    "            System.out.println(inputYear + \" is not a leap year.\");\n",
    "        }\n",
    "\n",
    "        // Return the boolean value\n",
    "        System.out.println(\"Is it a leap year? \" + isLeap);\n",
    "\n",
    "        scanner.close();\n",
    "    }\n",
    "}"
   ]
  },
  {
   "cell_type": "code",
   "execution_count": 2,
   "metadata": {},
   "outputs": [
    {
     "name": "stdout",
     "output_type": "stream",
     "text": [
      "1945 is a leap year: false\n",
      "2024 is a leap year: true\n"
     ]
    }
   ],
   "source": [
    "// Demo \n",
    "public class Demo {\n",
    "    public static void main(String[] args) {\n",
    "        CheckLeapYear year1 = new CheckLeapYear(1945);\n",
    "        CheckLeapYear year2 = new CheckLeapYear(2024);\n",
    "\n",
    "        boolean isLeap1 = year1.isLeapYear();\n",
    "        boolean isLeap2 = year2.isLeapYear();\n",
    "\n",
    "        System.out.println(\"1945 is a leap year: \" + isLeap1);\n",
    "        System.out.println(\"2024 is a leap year: \" + isLeap2);\n",
    "    }\n",
    "}\n",
    "\n",
    "Demo.main(null);"
   ]
  },
  {
   "cell_type": "markdown",
   "metadata": {},
   "source": [
    "### Weird questions\n",
    "\n",
    "<b>1. !(true)&&(false) = ? what in boolean values?</b>\n",
    "\n",
    "NOT true AND false --> <mark>false</mark>\n",
    "\n",
    "<b>2. not ((((true and not (false)) ^ false) ^ true) && false) (remember PEMDASNAO!)</b>\n",
    "\n",
    "not(false) --> true \n",
    "\n",
    "true AND true --> true \n",
    "\n",
    "true ^ false --> true \n",
    "\n",
    "true ^ true --> false \n",
    "\n",
    "false & & false --> false \n",
    "\n",
    "not (false) --> true \n",
    "\n",
    "<mark>true</mark>\n",
    "\n",
    "<b>3. Prove the following: !A * !(B + !C) = !A * (!B * !C)</b>\n",
    "\n",
    "Left-hand side: !A * (!B * C) --> !A * (!C * !B)\n",
    "\n",
    "Right-hand side: !A * (!B * !C)\n",
    "\n",
    "<b>4. 420 && 66 (Hint, convert to binary, then perform the operation)</b>\n",
    "\n",
    "420 --> 110100100\n",
    "\n",
    "66 --> 1000010\n",
    "\n",
    "110100100 & 1000010 --> 100000000\n",
    "\n",
    "Answer: <mark>256</mark>\n",
    "\n",
    "<b>5. If you got this one, try 89 OR 42</b>\n",
    "\n",
    "89 --> 1011001\n",
    "\n",
    "42 --> 101010\n",
    "\n",
    "1011001 & 101010 --> 1011111\n",
    "    \n",
    "Answer: <mark>95</mark>"
   ]
  }
 ],
 "metadata": {
  "kernelspec": {
   "display_name": "Java",
   "language": "java",
   "name": "java"
  },
  "language_info": {
   "codemirror_mode": "java",
   "file_extension": ".jshell",
   "mimetype": "text/x-java-source",
   "name": "java",
   "pygments_lexer": "java",
   "version": "20.0.1"
  }
 },
 "nbformat": 4,
 "nbformat_minor": 2
}
