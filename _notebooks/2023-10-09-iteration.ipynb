{
 "cells": [
  {
   "cell_type": "markdown",
   "metadata": {},
   "source": [
    "---\n",
    "## Iteration\n",
    "toc: true\n",
    "layout: post\n",
    "title: 4.5 Informal Code Analysis \n",
    "description: Object classes\n",
    "courses: { csa: {week: 7, categories: [3.A]} }\n",
    "type: hacks\n",
    "---"
   ]
  },
  {
   "cell_type": "markdown",
   "metadata": {},
   "source": [
    "<h1>4.5: Informal Code Analysis </h1>\n",
    "\n",
    "<b>Learning objective</b>: Compute statement execution counts & informal run-time comparison of iterative statements \n",
    "\n",
    "<b>Essential Knowledge</b>: A statement execution count indicates the number of times a statement is executed by the program "
   ]
  },
  {
   "cell_type": "markdown",
   "metadata": {},
   "source": [
    "<h3> What IS informal code analysis? </h3>"
   ]
  },
  {
   "cell_type": "markdown",
   "metadata": {},
   "source": [
    "Answer: "
   ]
  },
  {
   "cell_type": "code",
   "execution_count": 7,
   "metadata": {},
   "outputs": [],
   "source": [
    "// CODE EXAMPLE #1 (for loop)\n",
    "public class InformalCodeAnalysis {\n",
    "    public static void main(String[] args) {\n",
    "        int count = 0;\n",
    "        for (int k = 0; k < 30; k++)\n",
    "        {\n",
    "            if (k % 3 == 0) // line 1  \n",
    "            {\n",
    "                count++; // line 2 \n",
    "            }\n",
    "        }\n",
    "    }\n",
    "}"
   ]
  },
  {
   "cell_type": "markdown",
   "metadata": {},
   "source": [
    "<b>How many times will line 1 execute? </b>\n",
    "\n",
    "Answer:\n",
    "\n",
    "<b>How many times will line 2 execute?</b>\n",
    "\n",
    "Answer: "
   ]
  },
  {
   "cell_type": "code",
   "execution_count": 14,
   "metadata": {},
   "outputs": [],
   "source": [
    "// CODE EXAMPLE #2 (for loop)\n",
    "public class InformalCodeAnalysis {\n",
    "    public static void main(String[] args) {\n",
    "        int count = 0;\n",
    "        for (int k = 3; k < 30; k+=3)\n",
    "        {\n",
    "            count++; // line 3\n",
    "        }\n",
    "    }\n",
    "}"
   ]
  },
  {
   "cell_type": "markdown",
   "metadata": {},
   "source": [
    "<b>How many times will line 3 execute?</b>\n",
    "\n",
    "Answer: "
   ]
  },
  {
   "cell_type": "code",
   "execution_count": 12,
   "metadata": {},
   "outputs": [
    {
     "name": "stdout",
     "output_type": "stream",
     "text": [
      "0\n",
      "5\n",
      "10\n",
      "15\n",
      "20\n",
      "25\n",
      "30\n",
      "35\n",
      "40\n",
      "45\n",
      "50\n",
      "55\n",
      "60\n",
      "65\n",
      "70\n",
      "75\n",
      "80\n",
      "85\n",
      "90\n",
      "95\n",
      "100\n",
      "105\n",
      "110\n",
      "115\n",
      "120\n",
      "125\n",
      "130\n"
     ]
    }
   ],
   "source": [
    "// Rewrite the code segment below to have a faster run-time based on statement execution counts\n",
    "for (int k = 0; k < 135; k++)\n",
    "{\n",
    "    if (k % 5 == 0)\n",
    "    {\n",
    "        System.out.println(k);\n",
    "    }\n",
    "}"
   ]
  },
  {
   "cell_type": "code",
   "execution_count": null,
   "metadata": {},
   "outputs": [],
   "source": [
    "// CODE EXAMPLE #3 (while loop)\n",
    "\n",
    "int num = (int)(Math.random() * 10);\n",
    "while (num % 2 != 0)\n",
    "{\n",
    "    num = (int)(Math.random() * 10) // line 4\n",
    "}"
   ]
  },
  {
   "cell_type": "markdown",
   "metadata": {},
   "source": [
    "<b>What is the min/max number of times line 4 will execute?</b>\n",
    "\n",
    "Answer: "
   ]
  },
  {
   "cell_type": "code",
   "execution_count": null,
   "metadata": {},
   "outputs": [],
   "source": [
    "// CODE EXAMPLE #4 (nested loop)\n",
    "\n",
    "for (int outer = 0; outer < 3; outer++)\n",
    "{\n",
    "    for (int inner = 0; inner < 4; inner++)\n",
    "    {\n",
    "        // statement #1\n",
    "    }\n",
    "}"
   ]
  },
  {
   "cell_type": "markdown",
   "metadata": {},
   "source": [
    "<b>How many times will statement #1 execute?</b>\n",
    "\n",
    "Answer: "
   ]
  },
  {
   "cell_type": "code",
   "execution_count": 15,
   "metadata": {},
   "outputs": [],
   "source": [
    "// CODE EXAMPLE #5 (nested loop)\n",
    "\n",
    "int k = 0;\n",
    "while (k < 5)\n",
    "{\n",
    "    int x = (int)(Math.random() * 6) + 1;\n",
    "    while (x != 6)\n",
    "    {\n",
    "        // statement #1\n",
    "        x = (int)(Math.random() * 6) + 1;\n",
    "    }\n",
    "    k++; \n",
    "}"
   ]
  },
  {
   "cell_type": "markdown",
   "metadata": {},
   "source": [
    "<b>How many times will statement #1 execute?</b>\n",
    "\n",
    "Answer: "
   ]
  },
  {
   "cell_type": "markdown",
   "metadata": {},
   "source": [
    "<h1>HACKS</h1>"
   ]
  },
  {
   "cell_type": "markdown",
   "metadata": {},
   "source": [
    "<b>#1 How many times will statement #1 and statement #2 execute in the code segments below? </b>"
   ]
  },
  {
   "cell_type": "code",
   "execution_count": null,
   "metadata": {},
   "outputs": [],
   "source": [
    "for (int k = 0; k < 1000; k++)\n",
    "{\n",
    "    // statement #1 \n",
    "}"
   ]
  },
  {
   "cell_type": "code",
   "execution_count": null,
   "metadata": {},
   "outputs": [],
   "source": [
    "for (int k = 6; k < 50; k++)\n",
    "{\n",
    "    // statement #2\n",
    "}"
   ]
  },
  {
   "cell_type": "markdown",
   "metadata": {},
   "source": [
    "<b>#2 How many times will statement #3 execute for the code segment below?</b>"
   ]
  },
  {
   "cell_type": "code",
   "execution_count": null,
   "metadata": {},
   "outputs": [],
   "source": [
    "int k = 1;\n",
    "while (k <=7)\n",
    "{\n",
    "    for (int z = 0; z < 4; z++)\n",
    "    {\n",
    "        // statement #3 \n",
    "    }\n",
    "    k++; \n",
    "}"
   ]
  },
  {
   "cell_type": "markdown",
   "metadata": {},
   "source": [
    "<b>#3 Create 3 seperate code segments that execute a statement 10 times using: </b>\n",
    "\n",
    "(a) a for loop\n",
    "\n",
    "(b) a while loop\n",
    "\n",
    "(c) a nested loop"
   ]
  },
  {
   "cell_type": "code",
   "execution_count": null,
   "metadata": {},
   "outputs": [],
   "source": [
    "// 3a code "
   ]
  },
  {
   "cell_type": "code",
   "execution_count": null,
   "metadata": {},
   "outputs": [],
   "source": [
    "// 3b code"
   ]
  },
  {
   "cell_type": "code",
   "execution_count": null,
   "metadata": {},
   "outputs": [],
   "source": [
    "// 3c code"
   ]
  }
 ],
 "metadata": {
  "kernelspec": {
   "display_name": "Java",
   "language": "java",
   "name": "java"
  },
  "language_info": {
   "codemirror_mode": "java",
   "file_extension": ".jshell",
   "mimetype": "text/x-java-source",
   "name": "java",
   "pygments_lexer": "java",
   "version": "20.0.1"
  }
 },
 "nbformat": 4,
 "nbformat_minor": 2
}
